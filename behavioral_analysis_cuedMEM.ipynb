{
 "cells": [
  {
   "cell_type": "markdown",
   "metadata": {},
   "source": [
    "# Plot and process behavioral data CuedMEM\n",
    "by Willem Huijbers"
   ]
  },
  {
   "cell_type": "code",
   "execution_count": 1,
   "metadata": {
    "collapsed": true
   },
   "outputs": [],
   "source": [
    "import os\n",
    "import glob\n",
    "import pandas as pd\n",
    "import numpy as np\n",
    "import matplotlib.pyplot as plt\n",
    "import matplotlib"
   ]
  },
  {
   "cell_type": "code",
   "execution_count": 2,
   "metadata": {
    "collapsed": false
   },
   "outputs": [
    {
     "data": {
      "text/html": [
       "<div>\n",
       "<style>\n",
       "    .dataframe thead tr:only-child th {\n",
       "        text-align: right;\n",
       "    }\n",
       "\n",
       "    .dataframe thead th {\n",
       "        text-align: left;\n",
       "    }\n",
       "\n",
       "    .dataframe tbody tr th {\n",
       "        vertical-align: top;\n",
       "    }\n",
       "</style>\n",
       "<table border=\"1\" class=\"dataframe\">\n",
       "  <thead>\n",
       "    <tr style=\"text-align: right;\">\n",
       "      <th></th>\n",
       "      <th>SubjID</th>\n",
       "      <th>cue</th>\n",
       "      <th>HI</th>\n",
       "      <th>MI</th>\n",
       "      <th>FA</th>\n",
       "      <th>CR</th>\n",
       "      <th>rt_HI</th>\n",
       "      <th>rt_MI</th>\n",
       "      <th>rt_FA</th>\n",
       "      <th>rt_CR</th>\n",
       "      <th>dprime</th>\n",
       "      <th>bias</th>\n",
       "    </tr>\n",
       "  </thead>\n",
       "  <tbody>\n",
       "    <tr>\n",
       "      <th>0</th>\n",
       "      <td>1-JA</td>\n",
       "      <td>new</td>\n",
       "      <td>37</td>\n",
       "      <td>28</td>\n",
       "      <td>86</td>\n",
       "      <td>121</td>\n",
       "      <td>920.432432</td>\n",
       "      <td>983.928571</td>\n",
       "      <td>981.453488</td>\n",
       "      <td>1002.950413</td>\n",
       "      <td>0.387941</td>\n",
       "      <td>0.019554</td>\n",
       "    </tr>\n",
       "    <tr>\n",
       "      <th>1</th>\n",
       "      <td>2-RR</td>\n",
       "      <td>new</td>\n",
       "      <td>60</td>\n",
       "      <td>10</td>\n",
       "      <td>121</td>\n",
       "      <td>86</td>\n",
       "      <td>803.466667</td>\n",
       "      <td>1034.000000</td>\n",
       "      <td>902.404959</td>\n",
       "      <td>960.732558</td>\n",
       "      <td>0.854046</td>\n",
       "      <td>-0.640548</td>\n",
       "    </tr>\n",
       "    <tr>\n",
       "      <th>2</th>\n",
       "      <td>4-IT</td>\n",
       "      <td>new</td>\n",
       "      <td>23</td>\n",
       "      <td>32</td>\n",
       "      <td>52</td>\n",
       "      <td>98</td>\n",
       "      <td>840.956522</td>\n",
       "      <td>976.250000</td>\n",
       "      <td>984.596154</td>\n",
       "      <td>919.989796</td>\n",
       "      <td>0.187789</td>\n",
       "      <td>0.300441</td>\n",
       "    </tr>\n",
       "  </tbody>\n",
       "</table>\n",
       "</div>"
      ],
      "text/plain": [
       "  SubjID  cue  HI  MI   FA   CR       rt_HI        rt_MI       rt_FA  \\\n",
       "0   1-JA  new  37  28   86  121  920.432432   983.928571  981.453488   \n",
       "1   2-RR  new  60  10  121   86  803.466667  1034.000000  902.404959   \n",
       "2   4-IT  new  23  32   52   98  840.956522   976.250000  984.596154   \n",
       "\n",
       "         rt_CR    dprime      bias  \n",
       "0  1002.950413  0.387941  0.019554  \n",
       "1   960.732558  0.854046 -0.640548  \n",
       "2   919.989796  0.187789  0.300441  "
      ]
     },
     "execution_count": 2,
     "metadata": {},
     "output_type": "execute_result"
    }
   ],
   "source": [
    "#load in data from csf\n",
    "os.getcwd()\n",
    "fp = '/Users/huijbers/Dropbox/SideProjects/Project_with_Sander_cueMEM/cuedMEM/cuedMEM_SubjectLevelData.csv'\n",
    "data_behav = pd.read_csv(fp)\n",
    "data_behav.head(3)"
   ]
  },
  {
   "cell_type": "markdown",
   "metadata": {},
   "source": [
    "##### Scatter plot of (mean) behavior: dprime x bias"
   ]
  },
  {
   "cell_type": "code",
   "execution_count": 3,
   "metadata": {
    "collapsed": false
   },
   "outputs": [
    {
     "data": {
      "image/png": "[encoded data removed]",
      "text/plain": [
       "<matplotlib.figure.Figure at 0x111236c18>"
      ]
     },
     "metadata": {},
     "output_type": "display_data"
    }
   ],
   "source": [
    "mean_behav = data_behav.groupby('SubjID').mean()\n",
    "plt.scatter(mean_behav['dprime'], mean_behav['bias'])\n",
    "z = np.polyfit(mean_behav['dprime'],mean_behav['bias'], 1)\n",
    "p = np.poly1d(z)\n",
    "plt.plot(sorted(mean_behav['dprime']),p(sorted(mean_behav['dprime'])),\"black\")\n",
    "plt.text(1, 0.3, 'y =%.3fx + %.3f'%(z[0],z[1]), fontsize=20,color='black')\n",
    "plt.show()"
   ]
  }
 ],
 "metadata": {
  "kernelspec": {
   "display_name": "Python 3",
   "language": "python",
   "name": "python3"
  },
  "language_info": {
   "codemirror_mode": {
    "name": "ipython",
    "version": 3
   },
   "file_extension": ".py",
   "mimetype": "text/x-python",
   "name": "python",
   "nbconvert_exporter": "python",
   "pygments_lexer": "ipython3",
   "version": "3.6.0"
  }
 },
 "nbformat": 4,
 "nbformat_minor": 2
}
