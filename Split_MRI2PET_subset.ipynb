{
 "cells": [
  {
   "cell_type": "code",
   "execution_count": 1,
   "metadata": {
    "collapsed": false
   },
   "outputs": [],
   "source": [
    "#WH bit of code to split and subset paired MRI/PET images (jpg) for deep learning course\n",
    "import os\n",
    "import glob\n",
    "fp = os.getcwd()\n",
    "# fp = ''/Users/huijbers/Dropbox/DeepLearning/MRI2PET_paired_images'\n",
    "fn = glob.glob('*.jpg') #assumes matching header (hdr) files"
   ]
  },
  {
   "cell_type": "code",
   "execution_count": 2,
   "metadata": {
    "collapsed": false
   },
   "outputs": [],
   "source": [
    "# WH find files\n",
    "n_images = len(fn)\n",
    "subjectID = list(set([ss[4:10] for ss in fn]))\n",
    "n_subjects = len(subjectID)\n",
    "n_slices = round(len(fn) / n_subjects)\n",
    "range_slices = range(36,136,3)"
   ]
  },
  {
   "cell_type": "code",
   "execution_count": 3,
   "metadata": {
    "collapsed": false
   },
   "outputs": [
    {
     "name": "stdout",
     "output_type": "stream",
     "text": [
      "Copying: S_0016\n",
      "Copying: S_1073\n",
      "Copying: S_0995\n",
      "Copying: S_1030\n",
      "Copying: S_1263\n",
      "Copying: S_0422\n",
      "Copying: S_1092\n",
      "Copying: S_1059\n",
      "Copying: S_0222\n",
      "Copying: S_0128\n",
      "Copying: S_0325\n",
      "Copying: S_1057\n",
      "Copying: S_1062\n",
      "Copying: S_0005\n",
      "Copying: S_0862\n",
      "Copying: S_0047\n",
      "Copying: S_0892\n",
      "Copying: S_1122\n"
     ]
    }
   ],
   "source": [
    "import shutil\n",
    "# Training Set\n",
    "os.mkdir(fp + os.sep + 'train')\n",
    "for ss in range(0,12): #n_subjects):\n",
    "    print('Copying: ' + subjectID[ss])\n",
    "    for nn in range_slices: #n_slices\n",
    "        source_fp = glob.glob('*' + subjectID[ss] + '*Axial' + str(nn) + '.jpg')\n",
    "        target_fp = fp + os.sep + 'train' + os.sep + subjectID[ss] + '_Axial' + str(nn) + '.jpg'\n",
    "        shutil.copy(source_fp[0],target_fp)\n",
    "\n",
    "# Validation Set\n",
    "os.mkdir(fp + os.sep + 'val')\n",
    "for ss in range(12,15): #n_subjects):\n",
    "    print('Copying: ' + subjectID[ss])\n",
    "    for nn in range_slices: #n_slices\n",
    "        source_fp = glob.glob('*' + subjectID[ss] + '*Axial' + str(nn) + '.jpg')\n",
    "        target_fp = fp + os.sep + 'val' + os.sep + subjectID[ss] + '_Axial' + str(nn) + '.jpg'\n",
    "        shutil.copy(source_fp[0],target_fp)\n",
    "\n",
    "# Test Set\n",
    "os.mkdir(fp + os.sep + 'test')\n",
    "for ss in range(15,18): #n_subjects):  \n",
    "    print('Copying: ' + subjectID[ss])\n",
    "    for nn in range_slices: #n_slices\n",
    "        source_fp = glob.glob('*' + subjectID[ss] + '*Axial' + str(nn) + '.jpg')\n",
    "        target_fp = fp + os.sep + 'test' + os.sep + subjectID[ss] + '_Axial' + str(nn) + '.jpg'\n",
    "        shutil.copy(source_fp[0],target_fp)\n",
    "        \n",
    "print('Done')"
   ]
  }
 ],
 "metadata": {
  "kernelspec": {
   "display_name": "Python 3",
   "language": "python",
   "name": "python3"
  },
  "language_info": {
   "codemirror_mode": {
    "name": "ipython",
    "version": 3
   },
   "file_extension": ".py",
   "mimetype": "text/x-python",
   "name": "python",
   "nbconvert_exporter": "python",
   "pygments_lexer": "ipython3",
   "version": "3.6.0"
  }
 },
 "nbformat": 4,
 "nbformat_minor": 2
}
